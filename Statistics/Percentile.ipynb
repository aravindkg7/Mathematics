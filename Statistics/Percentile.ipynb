{
 "cells": [
  {
   "cell_type": "markdown",
   "metadata": {},
   "source": [
    "#### In this program, we will look at different ways of computing percentiles (as there are no universally accepted definition of percentile)"
   ]
  },
  {
   "cell_type": "code",
   "execution_count": 1,
   "metadata": {},
   "outputs": [],
   "source": [
    "import numpy as np"
   ]
  },
  {
   "cell_type": "markdown",
   "metadata": {},
   "source": [
    "##### **Definition 1:** Lowest score that is greater than the **n**th percentile of the scores"
   ]
  },
  {
   "cell_type": "code",
   "execution_count": 2,
   "metadata": {},
   "outputs": [],
   "source": [
    "def percentile1(data, n): #data is a list, n is the percentile to be computed\n",
    "    #Length of the data\n",
    "    data_len = len(data)\n",
    "\n",
    "    #Find the rank of the nth percentile\n",
    "    rank = np.ceil(n / data_len * 100)\n",
    "    data.sort()\n",
    "\n",
    "    return(data[rank])"
   ]
  },
  {
   "cell_type": "markdown",
   "metadata": {},
   "source": [
    "##### **Definition 2:** Lowest score that is greater than or equal the **n**th percentile of the scores"
   ]
  },
  {
   "cell_type": "code",
   "execution_count": 4,
   "metadata": {},
   "outputs": [],
   "source": [
    "def percentile2(data, n): #data is a list, n is the percentile to be computed\n",
    "    #Length of the data\n",
    "    data_len = len(data)\n",
    "\n",
    "    #Find the rank of the nth percentile\n",
    "    rank = np.round(n / data_len * 100, decimals=0)\n",
    "    data.sort()\n",
    "    \n",
    "    return(data[rank])"
   ]
  },
  {
   "cell_type": "markdown",
   "metadata": {},
   "source": [
    "##### **Definition 3:** Weighted average of percentiles computed based on the above definitions"
   ]
  },
  {
   "cell_type": "code",
   "execution_count": null,
   "metadata": {},
   "outputs": [],
   "source": [
    "def percentile3(data, n): #data is a list, n is the percentile to be computed\n",
    "    #Length of the data"
   ]
  }
 ],
 "metadata": {
  "kernelspec": {
   "display_name": "base",
   "language": "python",
   "name": "python3"
  },
  "language_info": {
   "codemirror_mode": {
    "name": "ipython",
    "version": 3
   },
   "file_extension": ".py",
   "mimetype": "text/x-python",
   "name": "python",
   "nbconvert_exporter": "python",
   "pygments_lexer": "ipython3",
   "version": "3.10.9"
  },
  "orig_nbformat": 4
 },
 "nbformat": 4,
 "nbformat_minor": 2
}
