{
 "cells": [
  {
   "cell_type": "markdown",
   "metadata": {},
   "source": [
    "#### In this program, we will look at different ways of computing percentiles (as there are no universally accepted definition of percentile)"
   ]
  },
  {
   "cell_type": "code",
   "execution_count": 12,
   "metadata": {},
   "outputs": [],
   "source": [
    "import numpy as np"
   ]
  },
  {
   "cell_type": "markdown",
   "metadata": {},
   "source": [
    "##### **Definition 1:** Lowest score that is greater than the **n**th percentile of the scores"
   ]
  },
  {
   "cell_type": "code",
   "execution_count": 13,
   "metadata": {},
   "outputs": [],
   "source": [
    "def percentile1(data, n): #data is a list, n is the percentile to be computed\n",
    "    #Length of the data\n",
    "    data_len = len(data)\n",
    "\n",
    "    #Compute the rank of the nth percentile\n",
    "    rank = int(np.trunc((n / 100) * data_len))\n",
    "    data.sort()\n",
    "\n",
    "    return(data[rank])"
   ]
  },
  {
   "cell_type": "markdown",
   "metadata": {},
   "source": [
    "##### **Definition 2:** Lowest score that is greater than or equal the **n**th percentile of the scores"
   ]
  },
  {
   "cell_type": "code",
   "execution_count": 14,
   "metadata": {},
   "outputs": [],
   "source": [
    "def percentile2(data, n): #data is a list, n is the percentile to be computed\n",
    "    #Length of the data\n",
    "    data_len = len(data)\n",
    "\n",
    "    #Compute the rank of the nth percentile\n",
    "    rank = int(np.trunc((n / 100) * data_len))\n",
    "    data.sort()\n",
    "    \n",
    "    return(data[rank-1])"
   ]
  },
  {
   "cell_type": "markdown",
   "metadata": {},
   "source": [
    "##### **Definition 3:** Weighted average of percentiles computed based on the above definitions \n",
    "##### <https://onlinestatbook.com/2/introduction/percentiles.html>"
   ]
  },
  {
   "cell_type": "code",
   "execution_count": 15,
   "metadata": {},
   "outputs": [],
   "source": [
    "def percentile3(data, n): #data is a list, n is the percentile to be computed\n",
    "    #Length of the data\n",
    "    data_len = len(data)\n",
    "\n",
    "    #Compute the rank of the nth percentile\n",
    "    rank = (n / 100) * (data_len + 1)\n",
    "\n",
    "    #Integer portion\n",
    "    IP = int(rank)\n",
    "\n",
    "    #Fractional portion\n",
    "    FP = rank - IP\n",
    "\n",
    "    data.sort()\n",
    "    \n",
    "    #Find the difference of the scores between data[IP+1] and data[IP]\n",
    "    temp_data = data[IP] - data[IP-1]\n",
    "\n",
    "    percentile_value = data[IP-1] + (FP * temp_data)\n",
    "\n",
    "    return(percentile_value)"
   ]
  },
  {
   "cell_type": "markdown",
   "metadata": {},
   "source": [
    "##### Function to print percentile values using different methods"
   ]
  },
  {
   "cell_type": "code",
   "execution_count": 16,
   "metadata": {},
   "outputs": [],
   "source": [
    "def calculate_percentile(data, n):\n",
    "    print('Percentiles \\n')\n",
    "    print(f'Method 1: {percentile1(data,n)}')\n",
    "    print(f'Method 2: {percentile2(data,n)}')\n",
    "    print(f'Method 3: {percentile3(data,n)}')\n",
    "    print(f'Using Numpy (Default): {np.percentile(data,n)}')"
   ]
  },
  {
   "cell_type": "markdown",
   "metadata": {},
   "source": [
    "###### Example 1"
   ]
  },
  {
   "cell_type": "code",
   "execution_count": 17,
   "metadata": {},
   "outputs": [],
   "source": [
    "data = [3, 5, 7, 9, 12, 21, 25, 30]\n",
    "n = 25"
   ]
  },
  {
   "cell_type": "code",
   "execution_count": 18,
   "metadata": {},
   "outputs": [
    {
     "name": "stdout",
     "output_type": "stream",
     "text": [
      "Percentiles \n",
      "\n",
      "Method 1: 7\n",
      "Method 2: 5\n",
      "Method 3: 5.5\n",
      "Using Numpy (Default): 6.5\n"
     ]
    }
   ],
   "source": [
    "calculate_percentile(data, n)"
   ]
  },
  {
   "cell_type": "markdown",
   "metadata": {},
   "source": [
    "###### Example 2"
   ]
  },
  {
   "cell_type": "code",
   "execution_count": 19,
   "metadata": {},
   "outputs": [],
   "source": [
    "data =  [12, 21, 3, 5, 7, 9, 25, 30]\n",
    "n = 80"
   ]
  },
  {
   "cell_type": "code",
   "execution_count": 20,
   "metadata": {},
   "outputs": [
    {
     "name": "stdout",
     "output_type": "stream",
     "text": [
      "Percentiles \n",
      "\n",
      "Method 1: 25\n",
      "Method 2: 21\n",
      "Method 3: 26.0\n",
      "Using Numpy (Default): 23.400000000000002\n"
     ]
    }
   ],
   "source": [
    "calculate_percentile(data, n)"
   ]
  },
  {
   "cell_type": "markdown",
   "metadata": {},
   "source": [
    "###### Example 3"
   ]
  },
  {
   "cell_type": "code",
   "execution_count": 21,
   "metadata": {},
   "outputs": [],
   "source": [
    " data = [10.80, 10.27, 9.82, 12.29, 11.10, 10.72, 9.89, 10.43, 10.83, 11.52, 10.11, 8.73, 8.59, 10.70, 11.73, 7.79, 9.02, 6.97, 10.84,\n",
    " 10.46, 8.06, 9.72, 15.13, 10.50, 9.47, 9.37, 11.39, 12.36, 9.33, 8.07, 11.37, 9.89, 11.87, 7.49, 11.87, 9.13, 9.69, 13.08, 11.53, 8.47,\n",
    " 10.13, 9.83, 8.63]\n",
    " n = 25"
   ]
  },
  {
   "cell_type": "code",
   "execution_count": 22,
   "metadata": {},
   "outputs": [
    {
     "name": "stdout",
     "output_type": "stream",
     "text": [
      "Percentiles \n",
      "\n",
      "Method 1: 9.13\n",
      "Method 2: 9.02\n",
      "Method 3: 9.13\n",
      "Using Numpy (Default): 9.23\n"
     ]
    }
   ],
   "source": [
    "calculate_percentile(data, n)"
   ]
  }
 ],
 "metadata": {
  "kernelspec": {
   "display_name": "base",
   "language": "python",
   "name": "python3"
  },
  "language_info": {
   "codemirror_mode": {
    "name": "ipython",
    "version": 3
   },
   "file_extension": ".py",
   "mimetype": "text/x-python",
   "name": "python",
   "nbconvert_exporter": "python",
   "pygments_lexer": "ipython3",
   "version": "3.10.9"
  },
  "orig_nbformat": 4
 },
 "nbformat": 4,
 "nbformat_minor": 2
}
