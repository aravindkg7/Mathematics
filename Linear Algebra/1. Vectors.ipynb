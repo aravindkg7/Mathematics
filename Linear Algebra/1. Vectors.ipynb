{
 "cells": [
  {
   "cell_type": "markdown",
   "metadata": {},
   "source": [
    "#### In this notebook, we create vectors and perform vector operations"
   ]
  },
  {
   "cell_type": "markdown",
   "metadata": {},
   "source": [
    "Creating vectors"
   ]
  },
  {
   "cell_type": "code",
   "execution_count": 1,
   "metadata": {},
   "outputs": [],
   "source": [
    "import numpy as np"
   ]
  },
  {
   "cell_type": "code",
   "execution_count": 2,
   "metadata": {},
   "outputs": [
    {
     "name": "stdout",
     "output_type": "stream",
     "text": [
      "[1.9, 2.8, -1.7]\n",
      "Length of the vector is 3\n"
     ]
    }
   ],
   "source": [
    "# 1st way to create to vector is using list\n",
    "x1 = [1.9, 2.8, -1.7]\n",
    "\n",
    "#print the vector\n",
    "print(x1)\n",
    "\n",
    "#print the length of the vector\n",
    "print(f'Length of the vector is {len(x1)}')"
   ]
  },
  {
   "cell_type": "code",
   "execution_count": 3,
   "metadata": {},
   "outputs": [
    {
     "name": "stdout",
     "output_type": "stream",
     "text": [
      "[ 2.4  5.6 -1.8  4.9]\n",
      "The length of the vector is 4\n",
      "The shape of the vector is (4,)\n"
     ]
    }
   ],
   "source": [
    "# 2nd way to create a vector is using numpy arrays\n",
    "x2 = np.array([2.4, 5.6, -1.8, 4.9])\n",
    "\n",
    "#print the vector\n",
    "print(x2)\n",
    "\n",
    "#print the length of the vector\n",
    "print(f'The length of the vector is {len(x2)}')\n",
    "\n",
    "#print the shape of the vector\n",
    "print(f'The shape of the vector is {x2.shape}')"
   ]
  },
  {
   "cell_type": "markdown",
   "metadata": {},
   "source": [
    "Numpy arrays in Python are the data structures that are more suited for vector operations than Lists. \n",
    "\n",
    "[Lists vs Numpy Arrays](https://www.geeksforgeeks.org/python-lists-vs-numpy-arrays/)\n",
    "\n",
    "From now on, the further implementations will be using Numpy arrays, unless mentioned."
   ]
  },
  {
   "cell_type": "markdown",
   "metadata": {},
   "source": [
    "##### Vector Operations"
   ]
  },
  {
   "cell_type": "markdown",
   "metadata": {},
   "source": [
    "**Addition of Vectors**\n",
    "\n",
    "Vectors can only be added if they have compatible shape. If they are compatible, then the resulting vector is the sum of individual entries in their corresponding positions."
   ]
  },
  {
   "cell_type": "code",
   "execution_count": 4,
   "metadata": {},
   "outputs": [
    {
     "name": "stdout",
     "output_type": "stream",
     "text": [
      "x1 = [ 1.9  2.8 -1.7]\n",
      "x2 = [ 2.4  5.6 -1.8  4.9]\n",
      "Shape of x1 is (3,)\n",
      "Shape of x2 is (4,)\n"
     ]
    },
    {
     "ename": "ValueError",
     "evalue": "operands could not be broadcast together with shapes (3,) (4,) ",
     "output_type": "error",
     "traceback": [
      "\u001b[1;31m---------------------------------------------------------------------------\u001b[0m",
      "\u001b[1;31mValueError\u001b[0m                                Traceback (most recent call last)",
      "\u001b[1;32md:\\Git\\Mathematics\\Linear Algebra\\Vectors.ipynb Cell 9\u001b[0m line \u001b[0;36m1\n\u001b[0;32m      <a href='vscode-notebook-cell:/d%3A/Git/Mathematics/Linear%20Algebra/Vectors.ipynb#W4sZmlsZQ%3D%3D?line=7'>8</a>\u001b[0m \u001b[39mprint\u001b[39m(\u001b[39mf\u001b[39m\u001b[39m'\u001b[39m\u001b[39mShape of x1 is \u001b[39m\u001b[39m{\u001b[39;00mx1\u001b[39m.\u001b[39mshape\u001b[39m}\u001b[39;00m\u001b[39m'\u001b[39m)\n\u001b[0;32m      <a href='vscode-notebook-cell:/d%3A/Git/Mathematics/Linear%20Algebra/Vectors.ipynb#W4sZmlsZQ%3D%3D?line=8'>9</a>\u001b[0m \u001b[39mprint\u001b[39m(\u001b[39mf\u001b[39m\u001b[39m'\u001b[39m\u001b[39mShape of x2 is \u001b[39m\u001b[39m{\u001b[39;00mx2\u001b[39m.\u001b[39mshape\u001b[39m}\u001b[39;00m\u001b[39m'\u001b[39m)\n\u001b[1;32m---> <a href='vscode-notebook-cell:/d%3A/Git/Mathematics/Linear%20Algebra/Vectors.ipynb#W4sZmlsZQ%3D%3D?line=10'>11</a>\u001b[0m \u001b[39mprint\u001b[39m(x1\u001b[39m+\u001b[39;49mx2)\n",
      "\u001b[1;31mValueError\u001b[0m: operands could not be broadcast together with shapes (3,) (4,) "
     ]
    }
   ],
   "source": [
    "#Example 1: Incompatible shapes (we will use the same vectors as above)\n",
    "\n",
    "x1 = np.array(x1)\n",
    "print(f'x1 = {x1}')\n",
    "\n",
    "print(f'x2 = {x2}')\n",
    "\n",
    "print(f'Shape of x1 is {x1.shape}')\n",
    "print(f'Shape of x2 is {x2.shape}')\n",
    "\n",
    "print(x1+x2)\n"
   ]
  },
  {
   "cell_type": "code",
   "execution_count": 5,
   "metadata": {},
   "outputs": [
    {
     "name": "stdout",
     "output_type": "stream",
     "text": [
      "x1 = [ 1.9  2.8 -1.7  6.3]\n",
      "x2 = [ 2.4  5.6 -1.8  4.9]\n",
      "Shape of x1 is (4,)\n",
      "Shape of x2 is (4,)\n",
      "[ 4.3  8.4 -3.5 11.2]\n"
     ]
    }
   ],
   "source": [
    "#Example 2: Compatible shapes\n",
    "\n",
    "x1 = np.array([1.9, 2.8, -1.7, 6.3])\n",
    "print(f'x1 = {x1}')\n",
    "\n",
    "print(f'x2 = {x2}')\n",
    "\n",
    "print(f'Shape of x1 is {x1.shape}')\n",
    "print(f'Shape of x2 is {x2.shape}')\n",
    "\n",
    "print(x1+x2)"
   ]
  }
 ],
 "metadata": {
  "kernelspec": {
   "display_name": "base",
   "language": "python",
   "name": "python3"
  },
  "language_info": {
   "codemirror_mode": {
    "name": "ipython",
    "version": 3
   },
   "file_extension": ".py",
   "mimetype": "text/x-python",
   "name": "python",
   "nbconvert_exporter": "python",
   "pygments_lexer": "ipython3",
   "version": "3.10.9"
  },
  "orig_nbformat": 4
 },
 "nbformat": 4,
 "nbformat_minor": 2
}
