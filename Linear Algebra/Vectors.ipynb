{
 "cells": [
  {
   "cell_type": "markdown",
   "metadata": {},
   "source": [
    "#### In this notebook, we will show how to create vectors and perform basic operations on vectors"
   ]
  },
  {
   "cell_type": "markdown",
   "metadata": {},
   "source": [
    "Creating vectors"
   ]
  },
  {
   "cell_type": "code",
   "execution_count": 2,
   "metadata": {},
   "outputs": [],
   "source": [
    "import numpy as np"
   ]
  },
  {
   "cell_type": "code",
   "execution_count": 2,
   "metadata": {},
   "outputs": [
    {
     "name": "stdout",
     "output_type": "stream",
     "text": [
      "[1.9, 2.8, -1.7]\n",
      "Length of the vector is 3\n"
     ]
    }
   ],
   "source": [
    "# 1st way to create to vector is using list\n",
    "x1 = [1.9, 2.8, -1.7]\n",
    "\n",
    "#print the vector\n",
    "print(x1)\n",
    "\n",
    "#print the length of the vector\n",
    "print(f'Length of the vector is {len(x1)}')"
   ]
  },
  {
   "cell_type": "code",
   "execution_count": 3,
   "metadata": {},
   "outputs": [
    {
     "name": "stdout",
     "output_type": "stream",
     "text": [
      "[ 2.4  5.6 -1.8  4.9]\n",
      "The length of the vector is 4\n"
     ]
    }
   ],
   "source": [
    "# 2nd way to create a vector is using numpy arrays\n",
    "x2 = np.array([2.4, 5.6, -1.8, 4.9])\n",
    "\n",
    "#print the vector\n",
    "print(x2)\n",
    "\n",
    "#print the length of the vector\n",
    "print(f'The length of the vector is {len(x2)}')"
   ]
  },
  {
   "cell_type": "code",
   "execution_count": null,
   "metadata": {},
   "outputs": [],
   "source": []
  }
 ],
 "metadata": {
  "kernelspec": {
   "display_name": "base",
   "language": "python",
   "name": "python3"
  },
  "language_info": {
   "codemirror_mode": {
    "name": "ipython",
    "version": 3
   },
   "file_extension": ".py",
   "mimetype": "text/x-python",
   "name": "python",
   "nbconvert_exporter": "python",
   "pygments_lexer": "ipython3",
   "version": "3.10.9"
  },
  "orig_nbformat": 4
 },
 "nbformat": 4,
 "nbformat_minor": 2
}
